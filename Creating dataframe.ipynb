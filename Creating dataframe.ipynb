{
 "cells": [
  {
   "cell_type": "markdown",
   "metadata": {},
   "source": [
    "# Beginners data analysis with Pandas"
   ]
  },
  {
   "cell_type": "markdown",
   "metadata": {},
   "source": [
    "In the first step, we import necessary libraries that are required for this example. Here, we use pandas library.\n",
    "Pandas is a fast, powerful, flexible and easy-to-use open source data analysis and manipulation tool built on top of the Python programming language.\n",
    "To install pandas, please go to this link: https://pandas.pydata.org/getting_started.html"
   ]
  },
  {
   "cell_type": "code",
   "execution_count": 1,
   "metadata": {
    "scrolled": false
   },
   "outputs": [
    {
     "name": "stdout",
     "output_type": "stream",
     "text": [
      "        name  year  points\n",
      "0        Leo  2013     1.5\n",
      "1        Leo  2014     1.7\n",
      "2        Leo  2015     3.6\n",
      "3      Messi  2016     2.4\n",
      "4  Di Caprio  2015     2.9\n"
     ]
    },
    {
     "data": {
      "text/html": [
       "<div>\n",
       "<style scoped>\n",
       "    .dataframe tbody tr th:only-of-type {\n",
       "        vertical-align: middle;\n",
       "    }\n",
       "\n",
       "    .dataframe tbody tr th {\n",
       "        vertical-align: top;\n",
       "    }\n",
       "\n",
       "    .dataframe thead th {\n",
       "        text-align: right;\n",
       "    }\n",
       "</style>\n",
       "<table border=\"1\" class=\"dataframe\">\n",
       "  <thead>\n",
       "    <tr style=\"text-align: right;\">\n",
       "      <th></th>\n",
       "      <th>name</th>\n",
       "      <th>year</th>\n",
       "      <th>points</th>\n",
       "    </tr>\n",
       "  </thead>\n",
       "  <tbody>\n",
       "    <tr>\n",
       "      <th>0</th>\n",
       "      <td>Leo</td>\n",
       "      <td>2013</td>\n",
       "      <td>1.5</td>\n",
       "    </tr>\n",
       "    <tr>\n",
       "      <th>1</th>\n",
       "      <td>Leo</td>\n",
       "      <td>2014</td>\n",
       "      <td>1.7</td>\n",
       "    </tr>\n",
       "    <tr>\n",
       "      <th>2</th>\n",
       "      <td>Leo</td>\n",
       "      <td>2015</td>\n",
       "      <td>3.6</td>\n",
       "    </tr>\n",
       "    <tr>\n",
       "      <th>3</th>\n",
       "      <td>Messi</td>\n",
       "      <td>2016</td>\n",
       "      <td>2.4</td>\n",
       "    </tr>\n",
       "    <tr>\n",
       "      <th>4</th>\n",
       "      <td>Di Caprio</td>\n",
       "      <td>2015</td>\n",
       "      <td>2.9</td>\n",
       "    </tr>\n",
       "  </tbody>\n",
       "</table>\n",
       "</div>"
      ],
      "text/plain": [
       "        name  year  points\n",
       "0        Leo  2013     1.5\n",
       "1        Leo  2014     1.7\n",
       "2        Leo  2015     3.6\n",
       "3      Messi  2016     2.4\n",
       "4  Di Caprio  2015     2.9"
      ]
     },
     "metadata": {},
     "output_type": "display_data"
    }
   ],
   "source": [
    "import pandas as pd   #Load pandas into pd.\n",
    "# Creating a Data Frame \n",
    "data = {'name': ['Leo', 'Leo', 'Leo', 'Messi', 'Di Caprio'], 'year': [2013, 2014, 2015, 2016, 2015], 'points': [1.5, 1.7, 3.6, 2.4, 2.9]} \n",
    "df = pd.DataFrame(data) # Data with a structure of rows and columns is created.\n",
    "print(df) \n",
    "display(df)"
   ]
  },
  {
   "cell_type": "code",
   "execution_count": 2,
   "metadata": {},
   "outputs": [
    {
     "name": "stdout",
     "output_type": "stream",
     "text": [
      "RangeIndex(start=0, stop=5, step=1)\n"
     ]
    }
   ],
   "source": [
    "# Printing the row direction index\n",
    "print(df.index) "
   ]
  },
  {
   "cell_type": "code",
   "execution_count": 3,
   "metadata": {},
   "outputs": [
    {
     "name": "stdout",
     "output_type": "stream",
     "text": [
      "Index(['name', 'year', 'points'], dtype='object')\n"
     ]
    }
   ],
   "source": [
    "#Printing the column in the column direction\n",
    "print(df.columns)  "
   ]
  },
  {
   "cell_type": "code",
   "execution_count": 4,
   "metadata": {},
   "outputs": [
    {
     "name": "stdout",
     "output_type": "stream",
     "text": [
      "[['Leo' 2013 1.5]\n",
      " ['Leo' 2014 1.7]\n",
      " ['Leo' 2015 3.6]\n",
      " ['Messi' 2016 2.4]\n",
      " ['Di Caprio' 2015 2.9]]\n"
     ]
    }
   ],
   "source": [
    "# Get value of the whole dataframe\n",
    "print(df.values) "
   ]
  },
  {
   "cell_type": "code",
   "execution_count": 5,
   "metadata": {},
   "outputs": [
    {
     "name": "stdout",
     "output_type": "stream",
     "text": [
      "Info       name  year  points\n",
      "Num                          \n",
      "0           Leo  2013     1.5\n",
      "1           Leo  2014     1.7\n",
      "2           Leo  2015     3.6\n",
      "3         Messi  2016     2.4\n",
      "4     Di Caprio  2015     2.9\n"
     ]
    }
   ],
   "source": [
    "# Setting names for each index and column\n",
    "df.index.name = 'Num' \n",
    "df.columns.name = 'Info' \n",
    "print(df)"
   ]
  },
  {
   "cell_type": "code",
   "execution_count": 6,
   "metadata": {},
   "outputs": [
    {
     "name": "stdout",
     "output_type": "stream",
     "text": [
      "       year       name  points penalty\n",
      "one    2013        Leo     1.5     NaN\n",
      "two    2014        Leo     1.7     NaN\n",
      "three  2015        Leo     3.6     NaN\n",
      "four   2016      Messi     2.4     NaN\n",
      "five   2015  Di Caprio     2.9     NaN\n"
     ]
    }
   ],
   "source": [
    "#Creating another dataframe df2 with four columns. A penalty column is added from the previous dataframe.\n",
    "df2 = pd.DataFrame(data, columns=['year', 'name', 'points', 'penalty'], \n",
    "index=['one', 'two', 'three', 'four', 'five']) \n",
    "print(df2) "
   ]
  },
  {
   "cell_type": "code",
   "execution_count": 7,
   "metadata": {
    "scrolled": true
   },
   "outputs": [
    {
     "name": "stdout",
     "output_type": "stream",
     "text": [
      "              year    points\n",
      "count     5.000000  5.000000\n",
      "mean   2014.600000  2.420000\n",
      "std       1.140175  0.864292\n",
      "min    2013.000000  1.500000\n",
      "25%    2014.000000  1.700000\n",
      "50%    2015.000000  2.400000\n",
      "75%    2015.000000  2.900000\n",
      "max    2016.000000  3.600000\n"
     ]
    }
   ],
   "source": [
    "# describe(): The function shows various calculated values for the data frame's computable values.\n",
    "print(df2.describe()) "
   ]
  },
  {
   "cell_type": "code",
   "execution_count": 8,
   "metadata": {},
   "outputs": [
    {
     "name": "stdout",
     "output_type": "stream",
     "text": [
      "       year    names  points penalty\n",
      "one    2014     Jack     1.5     NaN\n",
      "two    2015     Jack     1.7     NaN\n",
      "three  2016     Jack     3.6     NaN\n",
      "four   2015  Charles     2.4     NaN\n",
      "five   2016  Charles     2.9     NaN\n"
     ]
    }
   ],
   "source": [
    "# Set the data and set the index and column accordingly.\n",
    "data = {\"names\": [\"Jack\", \"Jack\", \"Jack\", \"Charles\", \"Charles\"], \n",
    "\"year\": [2014, 2015, 2016, 2015, 2016], \n",
    "\"points\": [1.5, 1.7, 3.6, 2.4, 2.9]} \n",
    "\n",
    "#Create a new data frame with the data created above.\n",
    "df = pd.DataFrame(data, columns=[\"year\", \"names\", \"points\", \"penalty\"],\n",
    "index=[\"one\", \"two\", \"three\", \"four\", \"five\"]) \n",
    "print(df) "
   ]
  },
  {
   "cell_type": "code",
   "execution_count": 9,
   "metadata": {},
   "outputs": [
    {
     "name": "stdout",
     "output_type": "stream",
     "text": [
      "one      2014\n",
      "two      2015\n",
      "three    2016\n",
      "four     2015\n",
      "five     2016\n",
      "Name: year, dtype: int64\n",
      "one      2014\n",
      "two      2015\n",
      "three    2016\n",
      "four     2015\n",
      "five     2016\n",
      "Name: year, dtype: int64\n",
      "       year  points\n",
      "one    2014     1.5\n",
      "two    2015     1.7\n",
      "three  2016     3.6\n",
      "four   2015     2.4\n",
      "five   2016     2.9\n"
     ]
    }
   ],
   "source": [
    "print(df['year']) # You can know the attribute values of the column by the column name.\n",
    "print(df.year) # Different ways of having the same meaning\n",
    "print(df[['year','points']]) # You can access multiple columns. "
   ]
  },
  {
   "cell_type": "code",
   "execution_count": 10,
   "metadata": {},
   "outputs": [
    {
     "name": "stdout",
     "output_type": "stream",
     "text": [
      "       year    names  points  penalty\n",
      "one    2014     Jack     1.5      0.5\n",
      "two    2015     Jack     1.7      0.5\n",
      "three  2016     Jack     3.6      0.5\n",
      "four   2015  Charles     2.4      0.5\n",
      "five   2016  Charles     2.9      0.5\n"
     ]
    }
   ],
   "source": [
    "df['penalty'] = 0.5 # We can select as above for a specific column and assign the value we want. \n",
    "print(df) "
   ]
  },
  {
   "cell_type": "code",
   "execution_count": 11,
   "metadata": {},
   "outputs": [
    {
     "name": "stdout",
     "output_type": "stream",
     "text": [
      "       year    names  points  penalty\n",
      "one    2014     Jack     1.5      0.1\n",
      "two    2015     Jack     1.7      0.2\n",
      "three  2016     Jack     3.6      0.3\n",
      "four   2015  Charles     2.4      0.4\n",
      "five   2016  Charles     2.9      0.5\n"
     ]
    }
   ],
   "source": [
    "# List of python or array of numpy\n",
    "df['penalty'] = [0.1, 0.2, 0.3, 0.4, 0.5] \n",
    "print(df) "
   ]
  },
  {
   "cell_type": "code",
   "execution_count": 12,
   "metadata": {},
   "outputs": [
    {
     "name": "stdout",
     "output_type": "stream",
     "text": [
      "       year    names  points  penalty  zeros\n",
      "one    2014     Jack     1.5      0.1      0\n",
      "two    2015     Jack     1.7      0.2      1\n",
      "three  2016     Jack     3.6      0.3      2\n",
      "four   2015  Charles     2.4      0.4      3\n",
      "five   2016  Charles     2.9      0.5      4\n"
     ]
    }
   ],
   "source": [
    "import numpy as np\n",
    "#adding another column named 'zeros' in the data frame\n",
    "df['zeros'] = np.arange(5)\n",
    "print(df)"
   ]
  },
  {
   "cell_type": "code",
   "execution_count": 13,
   "metadata": {},
   "outputs": [
    {
     "name": "stdout",
     "output_type": "stream",
     "text": [
      "       year    names  points  penalty  zeros  debt\n",
      "one    2014     Jack     1.5      0.1      0   NaN\n",
      "two    2015     Jack     1.7      0.2      1  -1.2\n",
      "three  2016     Jack     3.6      0.3      2   NaN\n",
      "four   2015  Charles     2.4      0.4      3  -1.5\n",
      "five   2016  Charles     2.9      0.5      4  -1.7\n"
     ]
    }
   ],
   "source": [
    "# Series can also be added.\n",
    "val = pd.Series([-1.2, -1.5, -1.7], index=['two','four','five']) \n",
    "df['debt'] = val \n",
    "print(df) "
   ]
  },
  {
   "cell_type": "code",
   "execution_count": 14,
   "metadata": {},
   "outputs": [
    {
     "name": "stdout",
     "output_type": "stream",
     "text": [
      "       year    names  points  penalty  zeros  debt  net_points  high_points\n",
      "one    2014     Jack     1.5      0.1      0   NaN         1.4        False\n",
      "two    2015     Jack     1.7      0.2      1  -1.2         1.5        False\n",
      "three  2016     Jack     3.6      0.3      2   NaN         3.3         True\n",
      "four   2015  Charles     2.4      0.4      3  -1.5         2.0        False\n",
      "five   2016  Charles     2.9      0.5      4  -1.7         2.4         True\n"
     ]
    }
   ],
   "source": [
    "# New values can be created from existing values.\n",
    "df['net_points'] = df['points'] - df['penalty'] \n",
    "df['high_points'] = df['net_points'] > 2.0 \n",
    "print(df) "
   ]
  },
  {
   "cell_type": "code",
   "execution_count": 15,
   "metadata": {},
   "outputs": [
    {
     "name": "stdout",
     "output_type": "stream",
     "text": [
      "       year    names  points  penalty  debt\n",
      "one    2014     Jack     1.5      0.1   NaN\n",
      "two    2015     Jack     1.7      0.2  -1.2\n",
      "three  2016     Jack     3.6      0.3   NaN\n",
      "four   2015  Charles     2.4      0.4  -1.5\n",
      "five   2016  Charles     2.9      0.5  -1.7\n"
     ]
    }
   ],
   "source": [
    "# Delete a column\n",
    "del df['high_points'] \n",
    "del df['net_points'] \n",
    "del df['zeros'] \n",
    "print(df) "
   ]
  },
  {
   "cell_type": "code",
   "execution_count": 16,
   "metadata": {},
   "outputs": [
    {
     "name": "stdout",
     "output_type": "stream",
     "text": [
      "Info   year    names  points  penalty  debt\n",
      "Order                                      \n",
      "one    2014     Jack     1.5      0.1   NaN\n",
      "two    2015     Jack     1.7      0.2  -1.2\n",
      "three  2016     Jack     3.6      0.3   NaN\n",
      "four   2015  Charles     2.4      0.4  -1.5\n",
      "five   2016  Charles     2.9      0.5  -1.7\n"
     ]
    }
   ],
   "source": [
    "df.index.name = 'Order' \n",
    "df.columns.name = 'Info' \n",
    "print(df) "
   ]
  },
  {
   "cell_type": "code",
   "execution_count": 17,
   "metadata": {},
   "outputs": [
    {
     "name": "stdout",
     "output_type": "stream",
     "text": [
      "Info\n",
      "year       2015\n",
      "names      Jack\n",
      "points      1.7\n",
      "penalty     0.2\n",
      "debt       -1.2\n",
      "Name: two, dtype: object\n"
     ]
    }
   ],
   "source": [
    "# indexing \n",
    "# How to use the .loc or .iloc function.\n",
    "print(df.loc['two']) "
   ]
  },
  {
   "cell_type": "code",
   "execution_count": 18,
   "metadata": {},
   "outputs": [
    {
     "name": "stdout",
     "output_type": "stream",
     "text": [
      "Order\n",
      "two      1.7\n",
      "three    3.6\n",
      "four     2.4\n",
      "Name: points, dtype: float64\n"
     ]
    }
   ],
   "source": [
    "print(df.loc['two':'four', 'points']) \n",
    "# Based on , the front means the row after the column."
   ]
  },
  {
   "cell_type": "code",
   "execution_count": 19,
   "metadata": {},
   "outputs": [
    {
     "name": "stdout",
     "output_type": "stream",
     "text": [
      "Order\n",
      "one      2014\n",
      "two      2015\n",
      "three    2016\n",
      "four     2015\n",
      "five     2016\n",
      "Name: year, dtype: int64\n"
     ]
    }
   ],
   "source": [
    "print(df.loc[:,'year']) # == df['year'] "
   ]
  },
  {
   "cell_type": "code",
   "execution_count": 20,
   "metadata": {},
   "outputs": [
    {
     "name": "stdout",
     "output_type": "stream",
     "text": [
      "Info   year    names\n",
      "Order               \n",
      "one    2014     Jack\n",
      "two    2015     Jack\n",
      "three  2016     Jack\n",
      "four   2015  Charles\n",
      "five   2016  Charles\n"
     ]
    }
   ],
   "source": [
    "print(df.loc[:,['year','names']]) "
   ]
  },
  {
   "cell_type": "code",
   "execution_count": 21,
   "metadata": {},
   "outputs": [
    {
     "name": "stdout",
     "output_type": "stream",
     "text": [
      "Info   year    names  points  penalty\n",
      "Order                                \n",
      "three  2016     Jack     3.6      0.3\n",
      "four   2015  Charles     2.4      0.4\n",
      "five   2016  Charles     2.9      0.5\n"
     ]
    }
   ],
   "source": [
    "print(df.loc['three':'five','year':'penalty'])"
   ]
  },
  {
   "cell_type": "code",
   "execution_count": 22,
   "metadata": {},
   "outputs": [
    {
     "name": "stdout",
     "output_type": "stream",
     "text": [
      "Info     year    names  points  penalty  debt\n",
      "Order                                        \n",
      "one    2014.0     Jack     1.5      0.1   NaN\n",
      "two    2015.0     Jack     1.7      0.2  -1.2\n",
      "three  2016.0     Jack     3.6      0.3   NaN\n",
      "four   2015.0  Charles     2.4      0.4  -1.5\n",
      "five   2016.0  Charles     2.9      0.5  -1.7\n",
      "six    2013.0      Jun     4.0      0.1   2.1\n"
     ]
    }
   ],
   "source": [
    "# Inserting a new row\n",
    "df.loc['six',:] = [2013,'Jun',4.0,0.1,2.1] \n",
    "print(df) "
   ]
  },
  {
   "cell_type": "code",
   "execution_count": 23,
   "metadata": {},
   "outputs": [
    {
     "name": "stdout",
     "output_type": "stream",
     "text": [
      "Info\n",
      "year          2015\n",
      "names      Charles\n",
      "points         2.4\n",
      "penalty        0.4\n",
      "debt          -1.5\n",
      "Name: four, dtype: object\n"
     ]
    }
   ],
   "source": [
    "# Using .iloc: Use the index number.\n",
    "print(df.iloc[3]) "
   ]
  },
  {
   "cell_type": "code",
   "execution_count": 24,
   "metadata": {
    "scrolled": true
   },
   "outputs": [
    {
     "name": "stdout",
     "output_type": "stream",
     "text": [
      "Info     year    names\n",
      "Order                 \n",
      "four   2015.0  Charles\n",
      "five   2016.0  Charles\n",
      "Info     names  points  penalty\n",
      "Order                          \n",
      "one       Jack     1.5      0.1\n",
      "two       Jack     1.7      0.2\n",
      "three     Jack     3.6      0.3\n",
      "four   Charles     2.4      0.4\n",
      "five   Charles     2.9      0.5\n",
      "six        Jun     4.0      0.1\n"
     ]
    }
   ],
   "source": [
    "# Get the 3rd row.\n",
    "# Rows 3-5, columns 0-2\n",
    "print(df.iloc[3:5, 0:2]) \n",
    "print(df.iloc[:,1:4]) "
   ]
  },
  {
   "cell_type": "code",
   "execution_count": null,
   "metadata": {},
   "outputs": [],
   "source": []
  },
  {
   "cell_type": "code",
   "execution_count": null,
   "metadata": {},
   "outputs": [],
   "source": []
  }
 ],
 "metadata": {
  "kernelspec": {
   "display_name": "Python 3",
   "language": "python",
   "name": "python3"
  },
  "language_info": {
   "codemirror_mode": {
    "name": "ipython",
    "version": 3
   },
   "file_extension": ".py",
   "mimetype": "text/x-python",
   "name": "python",
   "nbconvert_exporter": "python",
   "pygments_lexer": "ipython3",
   "version": "3.6.13"
  }
 },
 "nbformat": 4,
 "nbformat_minor": 4
}
